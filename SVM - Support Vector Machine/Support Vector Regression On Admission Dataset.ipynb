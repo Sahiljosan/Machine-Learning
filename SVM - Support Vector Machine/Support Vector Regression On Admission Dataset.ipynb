{
 "cells": [
  {
   "cell_type": "markdown",
   "id": "fcdd6780",
   "metadata": {},
   "source": [
    "## Support Vector Regression on Admission Dataset"
   ]
  },
  {
   "cell_type": "code",
   "execution_count": 130,
   "id": "d60a98bd",
   "metadata": {},
   "outputs": [],
   "source": [
    "import pandas as pd \n",
    "import numpy as np \n",
    "\n",
    "import matplotlib.pyplot as plt\n",
    "import seaborn as sns\n",
    "import matplotlib.pyplot as plt\n",
    "%matplotlib inline\n",
    "\n",
    "from sklearn.preprocessing import StandardScaler \n",
    "from sklearn.model_selection import train_test_split\n",
    "from sklearn.metrics import accuracy_score, confusion_matrix\n",
    "\n",
    "import warnings\n",
    "warnings.filterwarnings('ignore')\n"
   ]
  },
  {
   "cell_type": "markdown",
   "id": "e48000d1",
   "metadata": {},
   "source": [
    "## Data ingestion"
   ]
  },
  {
   "cell_type": "code",
   "execution_count": 12,
   "id": "5a32aafa",
   "metadata": {},
   "outputs": [
    {
     "data": {
      "text/html": [
       "<div>\n",
       "<style scoped>\n",
       "    .dataframe tbody tr th:only-of-type {\n",
       "        vertical-align: middle;\n",
       "    }\n",
       "\n",
       "    .dataframe tbody tr th {\n",
       "        vertical-align: top;\n",
       "    }\n",
       "\n",
       "    .dataframe thead th {\n",
       "        text-align: right;\n",
       "    }\n",
       "</style>\n",
       "<table border=\"1\" class=\"dataframe\">\n",
       "  <thead>\n",
       "    <tr style=\"text-align: right;\">\n",
       "      <th></th>\n",
       "      <th>Unnamed: 0</th>\n",
       "      <th>Serial No.</th>\n",
       "      <th>GRE Score</th>\n",
       "      <th>TOEFL Score</th>\n",
       "      <th>University Rating</th>\n",
       "      <th>SOP</th>\n",
       "      <th>LOR</th>\n",
       "      <th>CGPA</th>\n",
       "      <th>Research</th>\n",
       "      <th>Chance of Admit</th>\n",
       "    </tr>\n",
       "  </thead>\n",
       "  <tbody>\n",
       "    <tr>\n",
       "      <th>0</th>\n",
       "      <td>0</td>\n",
       "      <td>1</td>\n",
       "      <td>337.0</td>\n",
       "      <td>118.0</td>\n",
       "      <td>4.0</td>\n",
       "      <td>4.5</td>\n",
       "      <td>4.5</td>\n",
       "      <td>9.65</td>\n",
       "      <td>1</td>\n",
       "      <td>0.92</td>\n",
       "    </tr>\n",
       "    <tr>\n",
       "      <th>1</th>\n",
       "      <td>1</td>\n",
       "      <td>2</td>\n",
       "      <td>324.0</td>\n",
       "      <td>107.0</td>\n",
       "      <td>4.0</td>\n",
       "      <td>4.0</td>\n",
       "      <td>4.5</td>\n",
       "      <td>8.87</td>\n",
       "      <td>1</td>\n",
       "      <td>0.76</td>\n",
       "    </tr>\n",
       "    <tr>\n",
       "      <th>2</th>\n",
       "      <td>2</td>\n",
       "      <td>3</td>\n",
       "      <td>NaN</td>\n",
       "      <td>104.0</td>\n",
       "      <td>3.0</td>\n",
       "      <td>3.0</td>\n",
       "      <td>3.5</td>\n",
       "      <td>8.00</td>\n",
       "      <td>1</td>\n",
       "      <td>0.72</td>\n",
       "    </tr>\n",
       "    <tr>\n",
       "      <th>3</th>\n",
       "      <td>3</td>\n",
       "      <td>4</td>\n",
       "      <td>322.0</td>\n",
       "      <td>110.0</td>\n",
       "      <td>3.0</td>\n",
       "      <td>3.5</td>\n",
       "      <td>2.5</td>\n",
       "      <td>8.67</td>\n",
       "      <td>1</td>\n",
       "      <td>0.80</td>\n",
       "    </tr>\n",
       "    <tr>\n",
       "      <th>4</th>\n",
       "      <td>4</td>\n",
       "      <td>5</td>\n",
       "      <td>314.0</td>\n",
       "      <td>103.0</td>\n",
       "      <td>2.0</td>\n",
       "      <td>2.0</td>\n",
       "      <td>3.0</td>\n",
       "      <td>8.21</td>\n",
       "      <td>0</td>\n",
       "      <td>0.65</td>\n",
       "    </tr>\n",
       "  </tbody>\n",
       "</table>\n",
       "</div>"
      ],
      "text/plain": [
       "   Unnamed: 0  Serial No.  GRE Score  TOEFL Score  University Rating  SOP  \\\n",
       "0           0           1      337.0        118.0                4.0  4.5   \n",
       "1           1           2      324.0        107.0                4.0  4.0   \n",
       "2           2           3        NaN        104.0                3.0  3.0   \n",
       "3           3           4      322.0        110.0                3.0  3.5   \n",
       "4           4           5      314.0        103.0                2.0  2.0   \n",
       "\n",
       "   LOR  CGPA  Research  Chance of Admit  \n",
       "0  4.5  9.65         1             0.92  \n",
       "1  4.5  8.87         1             0.76  \n",
       "2  3.5  8.00         1             0.72  \n",
       "3  2.5  8.67         1             0.80  \n",
       "4  3.0  8.21         0             0.65  "
      ]
     },
     "execution_count": 12,
     "metadata": {},
     "output_type": "execute_result"
    }
   ],
   "source": [
    "df = pd.read_csv(r\"G:\\Udemy\\DATA SCIENCE ineuron\\Resources\\Admision prediction.csv\")\n",
    "df.head()"
   ]
  },
  {
   "cell_type": "code",
   "execution_count": 13,
   "id": "40939a8c",
   "metadata": {},
   "outputs": [
    {
     "data": {
      "text/plain": [
       "Index(['Unnamed: 0', 'Serial No.', 'GRE Score', 'TOEFL Score',\n",
       "       'University Rating', 'SOP', 'LOR', 'CGPA', 'Research',\n",
       "       'Chance of Admit'],\n",
       "      dtype='object')"
      ]
     },
     "execution_count": 13,
     "metadata": {},
     "output_type": "execute_result"
    }
   ],
   "source": [
    "df.columns"
   ]
  },
  {
   "cell_type": "code",
   "execution_count": 15,
   "id": "1e66cd57",
   "metadata": {},
   "outputs": [],
   "source": [
    "df.drop(['Unnamed: 0','Serial No.'],axis = 1,inplace= True)"
   ]
  },
  {
   "cell_type": "code",
   "execution_count": 17,
   "id": "240be74c",
   "metadata": {},
   "outputs": [
    {
     "data": {
      "text/html": [
       "<div>\n",
       "<style scoped>\n",
       "    .dataframe tbody tr th:only-of-type {\n",
       "        vertical-align: middle;\n",
       "    }\n",
       "\n",
       "    .dataframe tbody tr th {\n",
       "        vertical-align: top;\n",
       "    }\n",
       "\n",
       "    .dataframe thead th {\n",
       "        text-align: right;\n",
       "    }\n",
       "</style>\n",
       "<table border=\"1\" class=\"dataframe\">\n",
       "  <thead>\n",
       "    <tr style=\"text-align: right;\">\n",
       "      <th></th>\n",
       "      <th>GRE Score</th>\n",
       "      <th>TOEFL Score</th>\n",
       "      <th>University Rating</th>\n",
       "      <th>SOP</th>\n",
       "      <th>LOR</th>\n",
       "      <th>CGPA</th>\n",
       "      <th>Research</th>\n",
       "      <th>Chance of Admit</th>\n",
       "    </tr>\n",
       "  </thead>\n",
       "  <tbody>\n",
       "    <tr>\n",
       "      <th>0</th>\n",
       "      <td>337.0</td>\n",
       "      <td>118.0</td>\n",
       "      <td>4.0</td>\n",
       "      <td>4.5</td>\n",
       "      <td>4.5</td>\n",
       "      <td>9.65</td>\n",
       "      <td>1</td>\n",
       "      <td>0.92</td>\n",
       "    </tr>\n",
       "    <tr>\n",
       "      <th>1</th>\n",
       "      <td>324.0</td>\n",
       "      <td>107.0</td>\n",
       "      <td>4.0</td>\n",
       "      <td>4.0</td>\n",
       "      <td>4.5</td>\n",
       "      <td>8.87</td>\n",
       "      <td>1</td>\n",
       "      <td>0.76</td>\n",
       "    </tr>\n",
       "    <tr>\n",
       "      <th>2</th>\n",
       "      <td>NaN</td>\n",
       "      <td>104.0</td>\n",
       "      <td>3.0</td>\n",
       "      <td>3.0</td>\n",
       "      <td>3.5</td>\n",
       "      <td>8.00</td>\n",
       "      <td>1</td>\n",
       "      <td>0.72</td>\n",
       "    </tr>\n",
       "    <tr>\n",
       "      <th>3</th>\n",
       "      <td>322.0</td>\n",
       "      <td>110.0</td>\n",
       "      <td>3.0</td>\n",
       "      <td>3.5</td>\n",
       "      <td>2.5</td>\n",
       "      <td>8.67</td>\n",
       "      <td>1</td>\n",
       "      <td>0.80</td>\n",
       "    </tr>\n",
       "    <tr>\n",
       "      <th>4</th>\n",
       "      <td>314.0</td>\n",
       "      <td>103.0</td>\n",
       "      <td>2.0</td>\n",
       "      <td>2.0</td>\n",
       "      <td>3.0</td>\n",
       "      <td>8.21</td>\n",
       "      <td>0</td>\n",
       "      <td>0.65</td>\n",
       "    </tr>\n",
       "  </tbody>\n",
       "</table>\n",
       "</div>"
      ],
      "text/plain": [
       "   GRE Score  TOEFL Score  University Rating  SOP  LOR  CGPA  Research  \\\n",
       "0      337.0        118.0                4.0  4.5  4.5  9.65         1   \n",
       "1      324.0        107.0                4.0  4.0  4.5  8.87         1   \n",
       "2        NaN        104.0                3.0  3.0  3.5  8.00         1   \n",
       "3      322.0        110.0                3.0  3.5  2.5  8.67         1   \n",
       "4      314.0        103.0                2.0  2.0  3.0  8.21         0   \n",
       "\n",
       "   Chance of Admit  \n",
       "0             0.92  \n",
       "1             0.76  \n",
       "2             0.72  \n",
       "3             0.80  \n",
       "4             0.65  "
      ]
     },
     "execution_count": 17,
     "metadata": {},
     "output_type": "execute_result"
    }
   ],
   "source": [
    "df.head()"
   ]
  },
  {
   "cell_type": "markdown",
   "id": "30b795aa",
   "metadata": {},
   "source": [
    "### Rename the columns"
   ]
  },
  {
   "cell_type": "code",
   "execution_count": 82,
   "id": "d82cecb0",
   "metadata": {},
   "outputs": [],
   "source": [
    "df.rename(columns = {\"GRE Score\":\"GRE_Score\", \"TOEFL Score\":\"TOEFL_Score\",\"University Rating\" : \"University_Rating\", \"Chance_of_Admit'\":\"Chance_of_Admit\"},inplace = True)"
   ]
  },
  {
   "cell_type": "code",
   "execution_count": 83,
   "id": "5d86aaf5",
   "metadata": {},
   "outputs": [
    {
     "data": {
      "text/plain": [
       "Index(['GRE_Score', 'TOEFL_Score', 'University_Rating', 'SOP', 'LOR', 'CGPA',\n",
       "       'Research', 'Chance_of_Admit'],\n",
       "      dtype='object')"
      ]
     },
     "execution_count": 83,
     "metadata": {},
     "output_type": "execute_result"
    }
   ],
   "source": [
    "df.columns"
   ]
  },
  {
   "cell_type": "code",
   "execution_count": 78,
   "id": "4ddfeced",
   "metadata": {},
   "outputs": [
    {
     "name": "stdout",
     "output_type": "stream",
     "text": [
      "<class 'pandas.core.frame.DataFrame'>\n",
      "RangeIndex: 500 entries, 0 to 499\n",
      "Data columns (total 8 columns):\n",
      " #   Column             Non-Null Count  Dtype  \n",
      "---  ------             --------------  -----  \n",
      " 0   GRE_Score          485 non-null    float64\n",
      " 1   TOEFL_Score        490 non-null    float64\n",
      " 2   University_Rating  485 non-null    float64\n",
      " 3   SOP                500 non-null    float64\n",
      " 4   LOR                500 non-null    float64\n",
      " 5   CGPA               500 non-null    float64\n",
      " 6   Research           500 non-null    int64  \n",
      " 7   Chance_of_Admit'   500 non-null    float64\n",
      "dtypes: float64(7), int64(1)\n",
      "memory usage: 31.4 KB\n"
     ]
    }
   ],
   "source": [
    "df.info()"
   ]
  },
  {
   "cell_type": "code",
   "execution_count": 71,
   "id": "178f33a4",
   "metadata": {},
   "outputs": [
    {
     "data": {
      "text/html": [
       "<div>\n",
       "<style scoped>\n",
       "    .dataframe tbody tr th:only-of-type {\n",
       "        vertical-align: middle;\n",
       "    }\n",
       "\n",
       "    .dataframe tbody tr th {\n",
       "        vertical-align: top;\n",
       "    }\n",
       "\n",
       "    .dataframe thead th {\n",
       "        text-align: right;\n",
       "    }\n",
       "</style>\n",
       "<table border=\"1\" class=\"dataframe\">\n",
       "  <thead>\n",
       "    <tr style=\"text-align: right;\">\n",
       "      <th></th>\n",
       "      <th>GRE_Score</th>\n",
       "      <th>TOEFL_Score</th>\n",
       "      <th>University_Rating</th>\n",
       "      <th>SOP</th>\n",
       "      <th>LOR</th>\n",
       "      <th>CGPA</th>\n",
       "      <th>Research</th>\n",
       "      <th>Chance_of_Admit'</th>\n",
       "    </tr>\n",
       "  </thead>\n",
       "  <tbody>\n",
       "    <tr>\n",
       "      <th>count</th>\n",
       "      <td>485.000000</td>\n",
       "      <td>490.000000</td>\n",
       "      <td>485.000000</td>\n",
       "      <td>500.000000</td>\n",
       "      <td>500.00000</td>\n",
       "      <td>500.000000</td>\n",
       "      <td>500.000000</td>\n",
       "      <td>500.00000</td>\n",
       "    </tr>\n",
       "    <tr>\n",
       "      <th>mean</th>\n",
       "      <td>316.558763</td>\n",
       "      <td>107.187755</td>\n",
       "      <td>3.121649</td>\n",
       "      <td>3.374000</td>\n",
       "      <td>3.48400</td>\n",
       "      <td>8.576440</td>\n",
       "      <td>0.560000</td>\n",
       "      <td>0.72174</td>\n",
       "    </tr>\n",
       "    <tr>\n",
       "      <th>std</th>\n",
       "      <td>11.274704</td>\n",
       "      <td>6.112899</td>\n",
       "      <td>1.146160</td>\n",
       "      <td>0.991004</td>\n",
       "      <td>0.92545</td>\n",
       "      <td>0.604813</td>\n",
       "      <td>0.496884</td>\n",
       "      <td>0.14114</td>\n",
       "    </tr>\n",
       "    <tr>\n",
       "      <th>min</th>\n",
       "      <td>290.000000</td>\n",
       "      <td>92.000000</td>\n",
       "      <td>1.000000</td>\n",
       "      <td>1.000000</td>\n",
       "      <td>1.00000</td>\n",
       "      <td>6.800000</td>\n",
       "      <td>0.000000</td>\n",
       "      <td>0.34000</td>\n",
       "    </tr>\n",
       "    <tr>\n",
       "      <th>25%</th>\n",
       "      <td>308.000000</td>\n",
       "      <td>103.000000</td>\n",
       "      <td>2.000000</td>\n",
       "      <td>2.500000</td>\n",
       "      <td>3.00000</td>\n",
       "      <td>8.127500</td>\n",
       "      <td>0.000000</td>\n",
       "      <td>0.63000</td>\n",
       "    </tr>\n",
       "    <tr>\n",
       "      <th>50%</th>\n",
       "      <td>317.000000</td>\n",
       "      <td>107.000000</td>\n",
       "      <td>3.000000</td>\n",
       "      <td>3.500000</td>\n",
       "      <td>3.50000</td>\n",
       "      <td>8.560000</td>\n",
       "      <td>1.000000</td>\n",
       "      <td>0.72000</td>\n",
       "    </tr>\n",
       "    <tr>\n",
       "      <th>75%</th>\n",
       "      <td>325.000000</td>\n",
       "      <td>112.000000</td>\n",
       "      <td>4.000000</td>\n",
       "      <td>4.000000</td>\n",
       "      <td>4.00000</td>\n",
       "      <td>9.040000</td>\n",
       "      <td>1.000000</td>\n",
       "      <td>0.82000</td>\n",
       "    </tr>\n",
       "    <tr>\n",
       "      <th>max</th>\n",
       "      <td>340.000000</td>\n",
       "      <td>120.000000</td>\n",
       "      <td>5.000000</td>\n",
       "      <td>5.000000</td>\n",
       "      <td>5.00000</td>\n",
       "      <td>9.920000</td>\n",
       "      <td>1.000000</td>\n",
       "      <td>0.97000</td>\n",
       "    </tr>\n",
       "  </tbody>\n",
       "</table>\n",
       "</div>"
      ],
      "text/plain": [
       "        GRE_Score  TOEFL_Score  University_Rating         SOP        LOR  \\\n",
       "count  485.000000   490.000000         485.000000  500.000000  500.00000   \n",
       "mean   316.558763   107.187755           3.121649    3.374000    3.48400   \n",
       "std     11.274704     6.112899           1.146160    0.991004    0.92545   \n",
       "min    290.000000    92.000000           1.000000    1.000000    1.00000   \n",
       "25%    308.000000   103.000000           2.000000    2.500000    3.00000   \n",
       "50%    317.000000   107.000000           3.000000    3.500000    3.50000   \n",
       "75%    325.000000   112.000000           4.000000    4.000000    4.00000   \n",
       "max    340.000000   120.000000           5.000000    5.000000    5.00000   \n",
       "\n",
       "             CGPA    Research  Chance_of_Admit'  \n",
       "count  500.000000  500.000000         500.00000  \n",
       "mean     8.576440    0.560000           0.72174  \n",
       "std      0.604813    0.496884           0.14114  \n",
       "min      6.800000    0.000000           0.34000  \n",
       "25%      8.127500    0.000000           0.63000  \n",
       "50%      8.560000    1.000000           0.72000  \n",
       "75%      9.040000    1.000000           0.82000  \n",
       "max      9.920000    1.000000           0.97000  "
      ]
     },
     "execution_count": 71,
     "metadata": {},
     "output_type": "execute_result"
    }
   ],
   "source": [
    "df.describe()"
   ]
  },
  {
   "cell_type": "code",
   "execution_count": 72,
   "id": "d3a19dca",
   "metadata": {},
   "outputs": [
    {
     "data": {
      "text/plain": [
       "(500, 8)"
      ]
     },
     "execution_count": 72,
     "metadata": {},
     "output_type": "execute_result"
    }
   ],
   "source": [
    "df.shape"
   ]
  },
  {
   "cell_type": "markdown",
   "id": "d7a8b9e5",
   "metadata": {},
   "source": [
    "### Check the duplcate values"
   ]
  },
  {
   "cell_type": "code",
   "execution_count": 73,
   "id": "1ff3e167",
   "metadata": {},
   "outputs": [
    {
     "data": {
      "text/html": [
       "<div>\n",
       "<style scoped>\n",
       "    .dataframe tbody tr th:only-of-type {\n",
       "        vertical-align: middle;\n",
       "    }\n",
       "\n",
       "    .dataframe tbody tr th {\n",
       "        vertical-align: top;\n",
       "    }\n",
       "\n",
       "    .dataframe thead th {\n",
       "        text-align: right;\n",
       "    }\n",
       "</style>\n",
       "<table border=\"1\" class=\"dataframe\">\n",
       "  <thead>\n",
       "    <tr style=\"text-align: right;\">\n",
       "      <th></th>\n",
       "      <th>GRE_Score</th>\n",
       "      <th>TOEFL_Score</th>\n",
       "      <th>University_Rating</th>\n",
       "      <th>SOP</th>\n",
       "      <th>LOR</th>\n",
       "      <th>CGPA</th>\n",
       "      <th>Research</th>\n",
       "      <th>Chance_of_Admit'</th>\n",
       "    </tr>\n",
       "  </thead>\n",
       "  <tbody>\n",
       "  </tbody>\n",
       "</table>\n",
       "</div>"
      ],
      "text/plain": [
       "Empty DataFrame\n",
       "Columns: [GRE_Score, TOEFL_Score, University_Rating, SOP, LOR, CGPA, Research, Chance_of_Admit']\n",
       "Index: []"
      ]
     },
     "execution_count": 73,
     "metadata": {},
     "output_type": "execute_result"
    }
   ],
   "source": [
    "df[df.duplicated()]"
   ]
  },
  {
   "cell_type": "markdown",
   "id": "0d103360",
   "metadata": {},
   "source": [
    "### Checking For Null Values"
   ]
  },
  {
   "cell_type": "code",
   "execution_count": 74,
   "id": "82d13df5",
   "metadata": {},
   "outputs": [
    {
     "data": {
      "text/plain": [
       "GRE_Score            15\n",
       "TOEFL_Score          10\n",
       "University_Rating    15\n",
       "SOP                   0\n",
       "LOR                   0\n",
       "CGPA                  0\n",
       "Research              0\n",
       "Chance_of_Admit'      0\n",
       "dtype: int64"
      ]
     },
     "execution_count": 74,
     "metadata": {},
     "output_type": "execute_result"
    }
   ],
   "source": [
    "df.isna().sum()"
   ]
  },
  {
   "cell_type": "markdown",
   "id": "377cd95c",
   "metadata": {},
   "source": [
    "### Fill the null values with the mean"
   ]
  },
  {
   "cell_type": "code",
   "execution_count": 94,
   "id": "73ab764a",
   "metadata": {},
   "outputs": [
    {
     "data": {
      "text/plain": [
       "Index(['GRE_Score', 'TOEFL_Score', 'University_Rating', 'SOP', 'LOR', 'CGPA',\n",
       "       'Research', 'Chance_of_Admit'],\n",
       "      dtype='object')"
      ]
     },
     "execution_count": 94,
     "metadata": {},
     "output_type": "execute_result"
    }
   ],
   "source": [
    "df.columns"
   ]
  },
  {
   "cell_type": "code",
   "execution_count": 95,
   "id": "1930d976",
   "metadata": {
    "scrolled": true
   },
   "outputs": [],
   "source": [
    "df['GRE_Score'] = df['GRE_Score'].fillna(round(df['GRE_Score'].mean()))\n",
    "df['TOEFL_Score'] = df['TOEFL_Score'].fillna(round(df['TOEFL_Score'].mean()))\n",
    "df['University_Rating'] = df['University_Rating'].fillna(round(df['University_Rating'].mean()))"
   ]
  },
  {
   "cell_type": "code",
   "execution_count": 96,
   "id": "9e3829fd",
   "metadata": {
    "scrolled": false
   },
   "outputs": [
    {
     "data": {
      "text/plain": [
       "GRE_Score            0\n",
       "TOEFL_Score          0\n",
       "University_Rating    0\n",
       "SOP                  0\n",
       "LOR                  0\n",
       "CGPA                 0\n",
       "Research             0\n",
       "Chance_of_Admit      0\n",
       "dtype: int64"
      ]
     },
     "execution_count": 96,
     "metadata": {},
     "output_type": "execute_result"
    }
   ],
   "source": [
    "df.isna().sum()"
   ]
  },
  {
   "cell_type": "markdown",
   "id": "6826e2a0",
   "metadata": {},
   "source": [
    "### Check the outliers"
   ]
  },
  {
   "cell_type": "markdown",
   "id": "97404e47",
   "metadata": {},
   "source": [
    "### Box plot"
   ]
  },
  {
   "cell_type": "code",
   "execution_count": 97,
   "id": "6ef721d8",
   "metadata": {
    "scrolled": false
   },
   "outputs": [
    {
     "data": {
      "image/png": "[encoded data removed]",
      "text/plain": [
       "<Figure size 1440x1440 with 8 Axes>"
      ]
     },
     "metadata": {
      "needs_background": "light"
     },
     "output_type": "display_data"
    }
   ],
   "source": [
    "plt.figure(figsize = (20,20))\n",
    "plt.suptitle('BoxPlot of all features', fontsize = 40, fontweight = \"bold\", alpha = 0.8, y = 1.)\n",
    "\n",
    "for i in range(0, len(df.columns)):\n",
    "    plt.subplot(5,3,i+1)\n",
    "    sns.boxplot(x= df[df.columns[i]], data = df)\n",
    "    plt.xlabel(df.columns[i],fontsize = 20)\n",
    "    #plt.ylabel(\"Classes\")\n",
    "    #plt.title(\"{} .format(data.columns[i]))\n",
    "    plt.tight_layout()"
   ]
  },
  {
   "cell_type": "markdown",
   "id": "97760f39",
   "metadata": {},
   "source": [
    "### Obeservation\n",
    "Very Few outliers are present in the dataset, this will not affect our model so we do not handle it "
   ]
  },
  {
   "cell_type": "markdown",
   "id": "78e77596",
   "metadata": {},
   "source": [
    "## Graphical Analysis (DATA Visualization)"
   ]
  },
  {
   "cell_type": "code",
   "execution_count": 101,
   "id": "af2c8f6b",
   "metadata": {},
   "outputs": [
    {
     "data": {
      "image/png": "[encoded data removed]",
      "text/plain": [
       "<Figure size 1440x1440 with 8 Axes>"
      ]
     },
     "metadata": {
      "needs_background": "light"
     },
     "output_type": "display_data"
    }
   ],
   "source": [
    "plt.figure(figsize = (20,20))\n",
    "plt.suptitle('BoxPlot of all features', fontsize = 40, fontweight = \"bold\", alpha = 0.8, y = 1.)\n",
    "\n",
    "for i in range(0, len(df.columns)):\n",
    "    plt.subplot(5,3,i+1)\n",
    "    sns.distplot(x= df[df.columns[i]])\n",
    "    plt.xlabel(df.columns[i],fontsize = 20)\n",
    "    #plt.ylabel(\"Classes\")\n",
    "    #plt.title(\"{} .format(data.columns[i]))\n",
    "    plt.tight_layout()"
   ]
  },
  {
   "cell_type": "markdown",
   "id": "08ac3cc9",
   "metadata": {},
   "source": [
    "### Correlation"
   ]
  },
  {
   "cell_type": "code",
   "execution_count": 102,
   "id": "45b29268",
   "metadata": {},
   "outputs": [
    {
     "data": {
      "text/html": [
       "<div>\n",
       "<style scoped>\n",
       "    .dataframe tbody tr th:only-of-type {\n",
       "        vertical-align: middle;\n",
       "    }\n",
       "\n",
       "    .dataframe tbody tr th {\n",
       "        vertical-align: top;\n",
       "    }\n",
       "\n",
       "    .dataframe thead th {\n",
       "        text-align: right;\n",
       "    }\n",
       "</style>\n",
       "<table border=\"1\" class=\"dataframe\">\n",
       "  <thead>\n",
       "    <tr style=\"text-align: right;\">\n",
       "      <th></th>\n",
       "      <th>GRE_Score</th>\n",
       "      <th>TOEFL_Score</th>\n",
       "      <th>University_Rating</th>\n",
       "      <th>SOP</th>\n",
       "      <th>LOR</th>\n",
       "      <th>CGPA</th>\n",
       "      <th>Research</th>\n",
       "      <th>Chance_of_Admit</th>\n",
       "    </tr>\n",
       "  </thead>\n",
       "  <tbody>\n",
       "    <tr>\n",
       "      <th>GRE_Score</th>\n",
       "      <td>1.000000</td>\n",
       "      <td>0.819885</td>\n",
       "      <td>0.623467</td>\n",
       "      <td>0.608349</td>\n",
       "      <td>0.528105</td>\n",
       "      <td>0.818344</td>\n",
       "      <td>0.544756</td>\n",
       "      <td>0.802321</td>\n",
       "    </tr>\n",
       "    <tr>\n",
       "      <th>TOEFL_Score</th>\n",
       "      <td>0.819885</td>\n",
       "      <td>1.000000</td>\n",
       "      <td>0.644189</td>\n",
       "      <td>0.642976</td>\n",
       "      <td>0.535500</td>\n",
       "      <td>0.805547</td>\n",
       "      <td>0.464858</td>\n",
       "      <td>0.786543</td>\n",
       "    </tr>\n",
       "    <tr>\n",
       "      <th>University_Rating</th>\n",
       "      <td>0.623467</td>\n",
       "      <td>0.644189</td>\n",
       "      <td>1.000000</td>\n",
       "      <td>0.713657</td>\n",
       "      <td>0.606949</td>\n",
       "      <td>0.697704</td>\n",
       "      <td>0.424966</td>\n",
       "      <td>0.681482</td>\n",
       "    </tr>\n",
       "    <tr>\n",
       "      <th>SOP</th>\n",
       "      <td>0.608349</td>\n",
       "      <td>0.642976</td>\n",
       "      <td>0.713657</td>\n",
       "      <td>1.000000</td>\n",
       "      <td>0.663707</td>\n",
       "      <td>0.712154</td>\n",
       "      <td>0.408116</td>\n",
       "      <td>0.684137</td>\n",
       "    </tr>\n",
       "    <tr>\n",
       "      <th>LOR</th>\n",
       "      <td>0.528105</td>\n",
       "      <td>0.535500</td>\n",
       "      <td>0.606949</td>\n",
       "      <td>0.663707</td>\n",
       "      <td>1.000000</td>\n",
       "      <td>0.637469</td>\n",
       "      <td>0.372526</td>\n",
       "      <td>0.645365</td>\n",
       "    </tr>\n",
       "    <tr>\n",
       "      <th>CGPA</th>\n",
       "      <td>0.818344</td>\n",
       "      <td>0.805547</td>\n",
       "      <td>0.697704</td>\n",
       "      <td>0.712154</td>\n",
       "      <td>0.637469</td>\n",
       "      <td>1.000000</td>\n",
       "      <td>0.501311</td>\n",
       "      <td>0.882413</td>\n",
       "    </tr>\n",
       "    <tr>\n",
       "      <th>Research</th>\n",
       "      <td>0.544756</td>\n",
       "      <td>0.464858</td>\n",
       "      <td>0.424966</td>\n",
       "      <td>0.408116</td>\n",
       "      <td>0.372526</td>\n",
       "      <td>0.501311</td>\n",
       "      <td>1.000000</td>\n",
       "      <td>0.545871</td>\n",
       "    </tr>\n",
       "    <tr>\n",
       "      <th>Chance_of_Admit</th>\n",
       "      <td>0.802321</td>\n",
       "      <td>0.786543</td>\n",
       "      <td>0.681482</td>\n",
       "      <td>0.684137</td>\n",
       "      <td>0.645365</td>\n",
       "      <td>0.882413</td>\n",
       "      <td>0.545871</td>\n",
       "      <td>1.000000</td>\n",
       "    </tr>\n",
       "  </tbody>\n",
       "</table>\n",
       "</div>"
      ],
      "text/plain": [
       "                   GRE_Score  TOEFL_Score  University_Rating       SOP  \\\n",
       "GRE_Score           1.000000     0.819885           0.623467  0.608349   \n",
       "TOEFL_Score         0.819885     1.000000           0.644189  0.642976   \n",
       "University_Rating   0.623467     0.644189           1.000000  0.713657   \n",
       "SOP                 0.608349     0.642976           0.713657  1.000000   \n",
       "LOR                 0.528105     0.535500           0.606949  0.663707   \n",
       "CGPA                0.818344     0.805547           0.697704  0.712154   \n",
       "Research            0.544756     0.464858           0.424966  0.408116   \n",
       "Chance_of_Admit     0.802321     0.786543           0.681482  0.684137   \n",
       "\n",
       "                        LOR      CGPA  Research  Chance_of_Admit  \n",
       "GRE_Score          0.528105  0.818344  0.544756         0.802321  \n",
       "TOEFL_Score        0.535500  0.805547  0.464858         0.786543  \n",
       "University_Rating  0.606949  0.697704  0.424966         0.681482  \n",
       "SOP                0.663707  0.712154  0.408116         0.684137  \n",
       "LOR                1.000000  0.637469  0.372526         0.645365  \n",
       "CGPA               0.637469  1.000000  0.501311         0.882413  \n",
       "Research           0.372526  0.501311  1.000000         0.545871  \n",
       "Chance_of_Admit    0.645365  0.882413  0.545871         1.000000  "
      ]
     },
     "execution_count": 102,
     "metadata": {},
     "output_type": "execute_result"
    }
   ],
   "source": [
    "df.corr()"
   ]
  },
  {
   "cell_type": "code",
   "execution_count": 112,
   "id": "d48fa4bb",
   "metadata": {},
   "outputs": [
    {
     "data": {
      "text/plain": [
       "<AxesSubplot:>"
      ]
     },
     "execution_count": 112,
     "metadata": {},
     "output_type": "execute_result"
    },
    {
     "data": {
      "image/png": "[encoded data removed]",
      "text/plain": [
       "<Figure size 864x720 with 2 Axes>"
      ]
     },
     "metadata": {
      "needs_background": "light"
     },
     "output_type": "display_data"
    }
   ],
   "source": [
    "plt.figure(figsize = (12,10))\n",
    "sns.heatmap(df.corr(),annot = True, cmap='icefire')"
   ]
  },
  {
   "cell_type": "markdown",
   "id": "f7f259c8",
   "metadata": {},
   "source": [
    "### Splitting data into independet and dependent features"
   ]
  },
  {
   "cell_type": "code",
   "execution_count": 125,
   "id": "7e67cb00",
   "metadata": {},
   "outputs": [],
   "source": [
    "X = df.iloc[:,:-1]\n",
    "y = df.iloc[:,-1]"
   ]
  },
  {
   "cell_type": "code",
   "execution_count": 127,
   "id": "bf015792",
   "metadata": {},
   "outputs": [
    {
     "data": {
      "text/html": [
       "<div>\n",
       "<style scoped>\n",
       "    .dataframe tbody tr th:only-of-type {\n",
       "        vertical-align: middle;\n",
       "    }\n",
       "\n",
       "    .dataframe tbody tr th {\n",
       "        vertical-align: top;\n",
       "    }\n",
       "\n",
       "    .dataframe thead th {\n",
       "        text-align: right;\n",
       "    }\n",
       "</style>\n",
       "<table border=\"1\" class=\"dataframe\">\n",
       "  <thead>\n",
       "    <tr style=\"text-align: right;\">\n",
       "      <th></th>\n",
       "      <th>GRE_Score</th>\n",
       "      <th>TOEFL_Score</th>\n",
       "      <th>University_Rating</th>\n",
       "      <th>SOP</th>\n",
       "      <th>LOR</th>\n",
       "      <th>CGPA</th>\n",
       "      <th>Research</th>\n",
       "    </tr>\n",
       "  </thead>\n",
       "  <tbody>\n",
       "    <tr>\n",
       "      <th>0</th>\n",
       "      <td>337.0</td>\n",
       "      <td>118.0</td>\n",
       "      <td>4.0</td>\n",
       "      <td>4.5</td>\n",
       "      <td>4.5</td>\n",
       "      <td>9.65</td>\n",
       "      <td>1</td>\n",
       "    </tr>\n",
       "    <tr>\n",
       "      <th>1</th>\n",
       "      <td>324.0</td>\n",
       "      <td>107.0</td>\n",
       "      <td>4.0</td>\n",
       "      <td>4.0</td>\n",
       "      <td>4.5</td>\n",
       "      <td>8.87</td>\n",
       "      <td>1</td>\n",
       "    </tr>\n",
       "    <tr>\n",
       "      <th>2</th>\n",
       "      <td>317.0</td>\n",
       "      <td>104.0</td>\n",
       "      <td>3.0</td>\n",
       "      <td>3.0</td>\n",
       "      <td>3.5</td>\n",
       "      <td>8.00</td>\n",
       "      <td>1</td>\n",
       "    </tr>\n",
       "    <tr>\n",
       "      <th>3</th>\n",
       "      <td>322.0</td>\n",
       "      <td>110.0</td>\n",
       "      <td>3.0</td>\n",
       "      <td>3.5</td>\n",
       "      <td>2.5</td>\n",
       "      <td>8.67</td>\n",
       "      <td>1</td>\n",
       "    </tr>\n",
       "    <tr>\n",
       "      <th>4</th>\n",
       "      <td>314.0</td>\n",
       "      <td>103.0</td>\n",
       "      <td>2.0</td>\n",
       "      <td>2.0</td>\n",
       "      <td>3.0</td>\n",
       "      <td>8.21</td>\n",
       "      <td>0</td>\n",
       "    </tr>\n",
       "  </tbody>\n",
       "</table>\n",
       "</div>"
      ],
      "text/plain": [
       "   GRE_Score  TOEFL_Score  University_Rating  SOP  LOR  CGPA  Research\n",
       "0      337.0        118.0                4.0  4.5  4.5  9.65         1\n",
       "1      324.0        107.0                4.0  4.0  4.5  8.87         1\n",
       "2      317.0        104.0                3.0  3.0  3.5  8.00         1\n",
       "3      322.0        110.0                3.0  3.5  2.5  8.67         1\n",
       "4      314.0        103.0                2.0  2.0  3.0  8.21         0"
      ]
     },
     "execution_count": 127,
     "metadata": {},
     "output_type": "execute_result"
    }
   ],
   "source": [
    "X.head()"
   ]
  },
  {
   "cell_type": "code",
   "execution_count": 128,
   "id": "4660a847",
   "metadata": {},
   "outputs": [
    {
     "data": {
      "text/plain": [
       "0    0.92\n",
       "1    0.76\n",
       "2    0.72\n",
       "3    0.80\n",
       "4    0.65\n",
       "Name: Chance_of_Admit, dtype: float64"
      ]
     },
     "execution_count": 128,
     "metadata": {},
     "output_type": "execute_result"
    }
   ],
   "source": [
    "y.head()"
   ]
  },
  {
   "cell_type": "markdown",
   "id": "09e3becb",
   "metadata": {},
   "source": [
    "## Train Test split"
   ]
  },
  {
   "cell_type": "code",
   "execution_count": 132,
   "id": "3462dac3",
   "metadata": {},
   "outputs": [],
   "source": [
    "## random state train test split ....\n",
    "from sklearn.model_selection import train_test_split\n",
    "X_train, X_test, y_train, y_test = train_test_split(X,y,test_size=0.25, random_state=10)"
   ]
  },
  {
   "cell_type": "code",
   "execution_count": 134,
   "id": "577507a5",
   "metadata": {},
   "outputs": [
    {
     "data": {
      "text/html": [
       "<div>\n",
       "<style scoped>\n",
       "    .dataframe tbody tr th:only-of-type {\n",
       "        vertical-align: middle;\n",
       "    }\n",
       "\n",
       "    .dataframe tbody tr th {\n",
       "        vertical-align: top;\n",
       "    }\n",
       "\n",
       "    .dataframe thead th {\n",
       "        text-align: right;\n",
       "    }\n",
       "</style>\n",
       "<table border=\"1\" class=\"dataframe\">\n",
       "  <thead>\n",
       "    <tr style=\"text-align: right;\">\n",
       "      <th></th>\n",
       "      <th>GRE_Score</th>\n",
       "      <th>TOEFL_Score</th>\n",
       "      <th>University_Rating</th>\n",
       "      <th>SOP</th>\n",
       "      <th>LOR</th>\n",
       "      <th>CGPA</th>\n",
       "      <th>Research</th>\n",
       "    </tr>\n",
       "  </thead>\n",
       "  <tbody>\n",
       "    <tr>\n",
       "      <th>324</th>\n",
       "      <td>315.0</td>\n",
       "      <td>104.0</td>\n",
       "      <td>3.0</td>\n",
       "      <td>3.0</td>\n",
       "      <td>2.5</td>\n",
       "      <td>8.33</td>\n",
       "      <td>0</td>\n",
       "    </tr>\n",
       "    <tr>\n",
       "      <th>252</th>\n",
       "      <td>318.0</td>\n",
       "      <td>100.0</td>\n",
       "      <td>2.0</td>\n",
       "      <td>2.5</td>\n",
       "      <td>3.5</td>\n",
       "      <td>8.54</td>\n",
       "      <td>1</td>\n",
       "    </tr>\n",
       "    <tr>\n",
       "      <th>441</th>\n",
       "      <td>332.0</td>\n",
       "      <td>112.0</td>\n",
       "      <td>1.0</td>\n",
       "      <td>1.5</td>\n",
       "      <td>3.0</td>\n",
       "      <td>8.66</td>\n",
       "      <td>1</td>\n",
       "    </tr>\n",
       "    <tr>\n",
       "      <th>427</th>\n",
       "      <td>310.0</td>\n",
       "      <td>101.0</td>\n",
       "      <td>3.0</td>\n",
       "      <td>3.5</td>\n",
       "      <td>5.0</td>\n",
       "      <td>8.65</td>\n",
       "      <td>1</td>\n",
       "    </tr>\n",
       "    <tr>\n",
       "      <th>70</th>\n",
       "      <td>317.0</td>\n",
       "      <td>118.0</td>\n",
       "      <td>5.0</td>\n",
       "      <td>5.0</td>\n",
       "      <td>5.0</td>\n",
       "      <td>9.64</td>\n",
       "      <td>1</td>\n",
       "    </tr>\n",
       "  </tbody>\n",
       "</table>\n",
       "</div>"
      ],
      "text/plain": [
       "     GRE_Score  TOEFL_Score  University_Rating  SOP  LOR  CGPA  Research\n",
       "324      315.0        104.0                3.0  3.0  2.5  8.33         0\n",
       "252      318.0        100.0                2.0  2.5  3.5  8.54         1\n",
       "441      332.0        112.0                1.0  1.5  3.0  8.66         1\n",
       "427      310.0        101.0                3.0  3.5  5.0  8.65         1\n",
       "70       317.0        118.0                5.0  5.0  5.0  9.64         1"
      ]
     },
     "execution_count": 134,
     "metadata": {},
     "output_type": "execute_result"
    }
   ],
   "source": [
    "X_train.head()"
   ]
  },
  {
   "cell_type": "code",
   "execution_count": 135,
   "id": "6bca5d73",
   "metadata": {},
   "outputs": [
    {
     "data": {
      "text/plain": [
       "((375, 7), (375,))"
      ]
     },
     "execution_count": 135,
     "metadata": {},
     "output_type": "execute_result"
    }
   ],
   "source": [
    "X_train.shape,y_train.shape"
   ]
  },
  {
   "cell_type": "code",
   "execution_count": 181,
   "id": "7fcf76a8",
   "metadata": {},
   "outputs": [
    {
     "data": {
      "text/plain": [
       "((125, 7), (125,))"
      ]
     },
     "execution_count": 181,
     "metadata": {},
     "output_type": "execute_result"
    }
   ],
   "source": [
    "X_test.shape,y_test.shape"
   ]
  },
  {
   "cell_type": "markdown",
   "id": "a6f6b60b",
   "metadata": {},
   "source": [
    "### StandardScaler"
   ]
  },
  {
   "cell_type": "code",
   "execution_count": 182,
   "id": "dc63121f",
   "metadata": {},
   "outputs": [
    {
     "data": {
      "text/html": [
       "<style>#sk-container-id-4 {color: black;background-color: white;}#sk-container-id-4 pre{padding: 0;}#sk-container-id-4 div.sk-toggleable {background-color: white;}#sk-container-id-4 label.sk-toggleable__label {cursor: pointer;display: block;width: 100%;margin-bottom: 0;padding: 0.3em;box-sizing: border-box;text-align: center;}#sk-container-id-4 label.sk-toggleable__label-arrow:before {content: \"▸\";float: left;margin-right: 0.25em;color: #696969;}#sk-container-id-4 label.sk-toggleable__label-arrow:hover:before {color: black;}#sk-container-id-4 div.sk-estimator:hover label.sk-toggleable__label-arrow:before {color: black;}#sk-container-id-4 div.sk-toggleable__content {max-height: 0;max-width: 0;overflow: hidden;text-align: left;background-color: #f0f8ff;}#sk-container-id-4 div.sk-toggleable__content pre {margin: 0.2em;color: black;border-radius: 0.25em;background-color: #f0f8ff;}#sk-container-id-4 input.sk-toggleable__control:checked~div.sk-toggleable__content {max-height: 200px;max-width: 100%;overflow: auto;}#sk-container-id-4 input.sk-toggleable__control:checked~label.sk-toggleable__label-arrow:before {content: \"▾\";}#sk-container-id-4 div.sk-estimator input.sk-toggleable__control:checked~label.sk-toggleable__label {background-color: #d4ebff;}#sk-container-id-4 div.sk-label input.sk-toggleable__control:checked~label.sk-toggleable__label {background-color: #d4ebff;}#sk-container-id-4 input.sk-hidden--visually {border: 0;clip: rect(1px 1px 1px 1px);clip: rect(1px, 1px, 1px, 1px);height: 1px;margin: -1px;overflow: hidden;padding: 0;position: absolute;width: 1px;}#sk-container-id-4 div.sk-estimator {font-family: monospace;background-color: #f0f8ff;border: 1px dotted black;border-radius: 0.25em;box-sizing: border-box;margin-bottom: 0.5em;}#sk-container-id-4 div.sk-estimator:hover {background-color: #d4ebff;}#sk-container-id-4 div.sk-parallel-item::after {content: \"\";width: 100%;border-bottom: 1px solid gray;flex-grow: 1;}#sk-container-id-4 div.sk-label:hover label.sk-toggleable__label {background-color: #d4ebff;}#sk-container-id-4 div.sk-serial::before {content: \"\";position: absolute;border-left: 1px solid gray;box-sizing: border-box;top: 0;bottom: 0;left: 50%;z-index: 0;}#sk-container-id-4 div.sk-serial {display: flex;flex-direction: column;align-items: center;background-color: white;padding-right: 0.2em;padding-left: 0.2em;position: relative;}#sk-container-id-4 div.sk-item {position: relative;z-index: 1;}#sk-container-id-4 div.sk-parallel {display: flex;align-items: stretch;justify-content: center;background-color: white;position: relative;}#sk-container-id-4 div.sk-item::before, #sk-container-id-4 div.sk-parallel-item::before {content: \"\";position: absolute;border-left: 1px solid gray;box-sizing: border-box;top: 0;bottom: 0;left: 50%;z-index: -1;}#sk-container-id-4 div.sk-parallel-item {display: flex;flex-direction: column;z-index: 1;position: relative;background-color: white;}#sk-container-id-4 div.sk-parallel-item:first-child::after {align-self: flex-end;width: 50%;}#sk-container-id-4 div.sk-parallel-item:last-child::after {align-self: flex-start;width: 50%;}#sk-container-id-4 div.sk-parallel-item:only-child::after {width: 0;}#sk-container-id-4 div.sk-dashed-wrapped {border: 1px dashed gray;margin: 0 0.4em 0.5em 0.4em;box-sizing: border-box;padding-bottom: 0.4em;background-color: white;}#sk-container-id-4 div.sk-label label {font-family: monospace;font-weight: bold;display: inline-block;line-height: 1.2em;}#sk-container-id-4 div.sk-label-container {text-align: center;}#sk-container-id-4 div.sk-container {/* jupyter's `normalize.less` sets `[hidden] { display: none; }` but bootstrap.min.css set `[hidden] { display: none !important; }` so we also need the `!important` here to be able to override the default hidden behavior on the sphinx rendered scikit-learn.org. See: https://github.com/scikit-learn/scikit-learn/issues/21755 */display: inline-block !important;position: relative;}#sk-container-id-4 div.sk-text-repr-fallback {display: none;}</style><div id=\"sk-container-id-4\" class=\"sk-top-container\"><div class=\"sk-text-repr-fallback\"><pre>StandardScaler()</pre><b>In a Jupyter environment, please rerun this cell to show the HTML representation or trust the notebook. <br />On GitHub, the HTML representation is unable to render, please try loading this page with nbviewer.org.</b></div><div class=\"sk-container\" hidden><div class=\"sk-item\"><div class=\"sk-estimator sk-toggleable\"><input class=\"sk-toggleable__control sk-hidden--visually\" id=\"sk-estimator-id-4\" type=\"checkbox\" checked><label for=\"sk-estimator-id-4\" class=\"sk-toggleable__label sk-toggleable__label-arrow\">StandardScaler</label><div class=\"sk-toggleable__content\"><pre>StandardScaler()</pre></div></div></div></div></div>"
      ],
      "text/plain": [
       "StandardScaler()"
      ]
     },
     "execution_count": 182,
     "metadata": {},
     "output_type": "execute_result"
    }
   ],
   "source": [
    "from sklearn.preprocessing import StandardScaler\n",
    "scaler = StandardScaler()\n",
    "scaler"
   ]
  },
  {
   "cell_type": "code",
   "execution_count": 183,
   "id": "d458a94a",
   "metadata": {},
   "outputs": [
    {
     "data": {
      "text/plain": [
       "array([[-0.11576237, -0.5064383 , -0.05434817, ..., -1.00222248,\n",
       "        -0.36783128, -1.13427746],\n",
       "       [ 0.15165583, -1.16643608, -0.94045957, ...,  0.07005549,\n",
       "        -0.0297116 ,  0.8816185 ],\n",
       "       [ 1.39960745,  0.81355726, -1.82657097, ..., -0.46608349,\n",
       "         0.16349965,  0.8816185 ],\n",
       "       ...,\n",
       "       [ 0.06251643, -0.17643941, -0.05434817, ..., -0.46608349,\n",
       "        -1.07627251,  0.8816185 ],\n",
       "       [-1.45285339, -1.16643608, -0.05434817, ..., -0.46608349,\n",
       "         0.16349965,  0.8816185 ],\n",
       "       [-0.29404117, -0.83643719, -0.05434817, ..., -1.00222248,\n",
       "         0.19570152, -1.13427746]])"
      ]
     },
     "execution_count": 183,
     "metadata": {},
     "output_type": "execute_result"
    }
   ],
   "source": [
    "X_train =scaler.fit_transform(X_train)\n",
    "X_train"
   ]
  },
  {
   "cell_type": "code",
   "execution_count": 184,
   "id": "aa40287c",
   "metadata": {
    "scrolled": false
   },
   "outputs": [
    {
     "data": {
      "text/plain": [
       "array([[ 3.32000000e+02,  1.16000000e+02,  5.00000000e+00,\n",
       "         5.00000000e+00,  5.00000000e+00,  9.28000000e+00,\n",
       "         1.00000000e+00],\n",
       "       [ 3.25000000e+02,  1.14000000e+02,  5.00000000e+00,\n",
       "         4.00000000e+00,  5.00000000e+00,  9.46000000e+00,\n",
       "         1.00000000e+00],\n",
       "       [ 3.26000000e+02,  1.08000000e+02,  3.00000000e+00,\n",
       "         3.00000000e+00,  3.50000000e+00,  8.89000000e+00,\n",
       "        -1.17239551e-16],\n",
       "       [ 3.24000000e+02,  1.11000000e+02,  5.00000000e+00,\n",
       "         4.50000000e+00,  4.00000000e+00,  9.16000000e+00,\n",
       "         1.00000000e+00],\n",
       "       [ 3.03000000e+02,  1.05000000e+02,  5.00000000e+00,\n",
       "         5.00000000e+00,  4.50000000e+00,  8.65000000e+00,\n",
       "        -1.17239551e-16],\n",
       "       [ 3.20000000e+02,  1.04000000e+02,  3.00000000e+00,\n",
       "         3.00000000e+00,  3.50000000e+00,  8.74000000e+00,\n",
       "         1.00000000e+00],\n",
       "       [ 3.12000000e+02,  1.05000000e+02,  2.00000000e+00,\n",
       "         2.00000000e+00,  2.50000000e+00,  8.45000000e+00,\n",
       "        -1.17239551e-16],\n",
       "       [ 3.32000000e+02,  1.08000000e+02,  5.00000000e+00,\n",
       "         4.50000000e+00,  4.00000000e+00,  9.02000000e+00,\n",
       "         1.00000000e+00],\n",
       "       [ 3.09000000e+02,  1.04000000e+02,  2.00000000e+00,\n",
       "         2.00000000e+00,  2.50000000e+00,  8.26000000e+00,\n",
       "        -1.17239551e-16],\n",
       "       [ 3.12000000e+02,  1.06000000e+02,  3.00000000e+00,\n",
       "         4.00000000e+00,  3.50000000e+00,  8.79000000e+00,\n",
       "         1.00000000e+00],\n",
       "       [ 3.28000000e+02,  1.16000000e+02,  4.00000000e+00,\n",
       "         5.00000000e+00,  3.50000000e+00,  9.60000000e+00,\n",
       "         1.00000000e+00],\n",
       "       [ 3.21000000e+02,  1.12000000e+02,  5.00000000e+00,\n",
       "         5.00000000e+00,  5.00000000e+00,  9.06000000e+00,\n",
       "         1.00000000e+00],\n",
       "       [ 3.29000000e+02,  1.11000000e+02,  4.00000000e+00,\n",
       "         4.50000000e+00,  4.00000000e+00,  9.01000000e+00,\n",
       "         1.00000000e+00],\n",
       "       [ 3.12000000e+02,  1.04000000e+02,  3.00000000e+00,\n",
       "         3.50000000e+00,  3.50000000e+00,  8.42000000e+00,\n",
       "        -1.17239551e-16],\n",
       "       [ 3.25000000e+02,  1.10000000e+02,  4.00000000e+00,\n",
       "         3.50000000e+00,  4.00000000e+00,  8.67000000e+00,\n",
       "         1.00000000e+00],\n",
       "       [ 3.16000000e+02,  1.11000000e+02,  4.00000000e+00,\n",
       "         4.00000000e+00,  5.00000000e+00,  8.54000000e+00,\n",
       "        -1.17239551e-16],\n",
       "       [ 3.32000000e+02,  1.17000000e+02,  4.00000000e+00,\n",
       "         4.50000000e+00,  4.00000000e+00,  9.10000000e+00,\n",
       "        -1.17239551e-16],\n",
       "       [ 3.39000000e+02,  1.19000000e+02,  5.00000000e+00,\n",
       "         4.50000000e+00,  4.00000000e+00,  9.70000000e+00,\n",
       "        -1.17239551e-16],\n",
       "       [ 3.18000000e+02,  1.01000000e+02,  5.00000000e+00,\n",
       "         3.50000000e+00,  5.00000000e+00,  8.78000000e+00,\n",
       "         1.00000000e+00],\n",
       "       [ 3.05000000e+02,  1.06000000e+02,  2.00000000e+00,\n",
       "         3.00000000e+00,  3.00000000e+00,  8.16000000e+00,\n",
       "        -1.17239551e-16],\n",
       "       [ 3.12000000e+02,  1.03000000e+02,  3.00000000e+00,\n",
       "         3.50000000e+00,  4.00000000e+00,  8.78000000e+00,\n",
       "        -1.17239551e-16],\n",
       "       [ 3.17000000e+02,  1.06000000e+02,  1.00000000e+00,\n",
       "         1.50000000e+00,  3.50000000e+00,  7.65000000e+00,\n",
       "         1.00000000e+00],\n",
       "       [ 3.08000000e+02,  1.05000000e+02,  4.00000000e+00,\n",
       "         3.00000000e+00,  2.50000000e+00,  7.95000000e+00,\n",
       "         1.00000000e+00],\n",
       "       [ 3.25000000e+02,  1.12000000e+02,  4.00000000e+00,\n",
       "         4.00000000e+00,  4.50000000e+00,  9.17000000e+00,\n",
       "         1.00000000e+00],\n",
       "       [ 2.98000000e+02,  9.20000000e+01,  1.00000000e+00,\n",
       "         2.00000000e+00,  2.00000000e+00,  7.88000000e+00,\n",
       "        -1.17239551e-16],\n",
       "       [ 3.33000000e+02,  1.18000000e+02,  5.00000000e+00,\n",
       "         5.00000000e+00,  5.00000000e+00,  9.35000000e+00,\n",
       "         1.00000000e+00],\n",
       "       [ 3.13000000e+02,  1.04000000e+02,  3.00000000e+00,\n",
       "         4.00000000e+00,  4.50000000e+00,  8.65000000e+00,\n",
       "        -1.17239551e-16],\n",
       "       [ 3.16000000e+02,  9.80000000e+01,  3.00000000e+00,\n",
       "         1.50000000e+00,  2.00000000e+00,  7.43000000e+00,\n",
       "        -1.17239551e-16],\n",
       "       [ 3.17000000e+02,  1.05000000e+02,  3.00000000e+00,\n",
       "         3.50000000e+00,  3.00000000e+00,  8.56000000e+00,\n",
       "        -1.17239551e-16],\n",
       "       [ 3.19000000e+02,  1.10000000e+02,  3.00000000e+00,\n",
       "         3.00000000e+00,  2.50000000e+00,  8.79000000e+00,\n",
       "        -1.17239551e-16],\n",
       "       [ 3.36000000e+02,  1.18000000e+02,  5.00000000e+00,\n",
       "         4.50000000e+00,  5.00000000e+00,  9.53000000e+00,\n",
       "         1.00000000e+00],\n",
       "       [ 3.28000000e+02,  1.13000000e+02,  4.00000000e+00,\n",
       "         4.00000000e+00,  2.50000000e+00,  8.77000000e+00,\n",
       "         1.00000000e+00],\n",
       "       [ 2.97000000e+02,  1.01000000e+02,  3.00000000e+00,\n",
       "         2.00000000e+00,  4.00000000e+00,  7.67000000e+00,\n",
       "         1.00000000e+00],\n",
       "       [ 3.11000000e+02,  1.07000000e+02,  2.00000000e+00,\n",
       "         2.50000000e+00,  3.50000000e+00,  8.34000000e+00,\n",
       "         1.00000000e+00],\n",
       "       [ 3.22000000e+02,  1.07000000e+02,  3.00000000e+00,\n",
       "         3.50000000e+00,  3.50000000e+00,  8.46000000e+00,\n",
       "         1.00000000e+00],\n",
       "       [ 3.29000000e+02,  1.19000000e+02,  4.00000000e+00,\n",
       "         4.50000000e+00,  4.50000000e+00,  9.16000000e+00,\n",
       "         1.00000000e+00],\n",
       "       [ 3.17000000e+02,  1.10000000e+02,  4.00000000e+00,\n",
       "         3.00000000e+00,  3.50000000e+00,  8.97000000e+00,\n",
       "         1.00000000e+00],\n",
       "       [ 2.99000000e+02,  1.02000000e+02,  3.00000000e+00,\n",
       "         4.00000000e+00,  3.50000000e+00,  8.62000000e+00,\n",
       "        -1.17239551e-16],\n",
       "       [ 3.08000000e+02,  1.03000000e+02,  2.00000000e+00,\n",
       "         3.00000000e+00,  3.50000000e+00,  8.49000000e+00,\n",
       "        -1.17239551e-16],\n",
       "       [ 3.11000000e+02,  1.02000000e+02,  3.00000000e+00,\n",
       "         4.50000000e+00,  4.00000000e+00,  8.64000000e+00,\n",
       "         1.00000000e+00],\n",
       "       [ 3.32000000e+02,  1.19000000e+02,  4.00000000e+00,\n",
       "         5.00000000e+00,  4.50000000e+00,  9.24000000e+00,\n",
       "         1.00000000e+00],\n",
       "       [ 3.14000000e+02,  1.02000000e+02,  2.00000000e+00,\n",
       "         2.00000000e+00,  2.50000000e+00,  8.24000000e+00,\n",
       "        -1.17239551e-16],\n",
       "       [ 3.11000000e+02,  1.05000000e+02,  3.00000000e+00,\n",
       "         3.50000000e+00,  3.00000000e+00,  8.45000000e+00,\n",
       "         1.00000000e+00],\n",
       "       [ 3.29000000e+02,  1.13000000e+02,  5.00000000e+00,\n",
       "         5.00000000e+00,  4.50000000e+00,  9.45000000e+00,\n",
       "         1.00000000e+00],\n",
       "       [ 3.36000000e+02,  1.19000000e+02,  5.00000000e+00,\n",
       "         4.00000000e+00,  3.50000000e+00,  9.80000000e+00,\n",
       "         1.00000000e+00],\n",
       "       [ 2.99000000e+02,  9.70000000e+01,  3.00000000e+00,\n",
       "         5.00000000e+00,  3.50000000e+00,  7.66000000e+00,\n",
       "        -1.17239551e-16],\n",
       "       [ 3.04000000e+02,  1.00000000e+02,  2.00000000e+00,\n",
       "         3.50000000e+00,  3.00000000e+00,  8.22000000e+00,\n",
       "        -1.17239551e-16],\n",
       "       [ 3.25000000e+02,  1.12000000e+02,  4.00000000e+00,\n",
       "         3.50000000e+00,  3.50000000e+00,  8.92000000e+00,\n",
       "        -1.17239551e-16],\n",
       "       [ 3.27000000e+02,  1.04000000e+02,  5.00000000e+00,\n",
       "         3.00000000e+00,  3.50000000e+00,  8.84000000e+00,\n",
       "         1.00000000e+00],\n",
       "       [ 3.12000000e+02,  1.03000000e+02,  4.00000000e+00,\n",
       "         4.00000000e+00,  5.00000000e+00,  8.43000000e+00,\n",
       "        -1.17239551e-16],\n",
       "       [ 3.24000000e+02,  1.07000000e+02,  5.00000000e+00,\n",
       "         3.50000000e+00,  4.00000000e+00,  8.66000000e+00,\n",
       "         1.00000000e+00],\n",
       "       [ 3.19000000e+02,  1.08000000e+02,  2.00000000e+00,\n",
       "         2.50000000e+00,  3.00000000e+00,  8.76000000e+00,\n",
       "        -1.17239551e-16],\n",
       "       [ 3.13000000e+02,  9.40000000e+01,  2.00000000e+00,\n",
       "         2.50000000e+00,  1.50000000e+00,  8.13000000e+00,\n",
       "        -1.17239551e-16],\n",
       "       [ 3.09000000e+02,  1.06000000e+02,  2.00000000e+00,\n",
       "         2.50000000e+00,  2.50000000e+00,  8.00000000e+00,\n",
       "        -1.17239551e-16],\n",
       "       [ 3.22000000e+02,  1.05000000e+02,  2.00000000e+00,\n",
       "         3.00000000e+00,  3.00000000e+00,  8.45000000e+00,\n",
       "         1.00000000e+00],\n",
       "       [ 3.21000000e+02,  1.09000000e+02,  4.00000000e+00,\n",
       "         4.00000000e+00,  4.00000000e+00,  8.68000000e+00,\n",
       "         1.00000000e+00],\n",
       "       [ 3.24000000e+02,  1.14000000e+02,  5.00000000e+00,\n",
       "         5.00000000e+00,  4.50000000e+00,  9.08000000e+00,\n",
       "         1.00000000e+00],\n",
       "       [ 3.08000000e+02,  1.01000000e+02,  2.00000000e+00,\n",
       "         3.00000000e+00,  4.00000000e+00,  7.90000000e+00,\n",
       "        -1.17239551e-16],\n",
       "       [ 3.18000000e+02,  1.09000000e+02,  1.00000000e+00,\n",
       "         3.50000000e+00,  3.50000000e+00,  9.12000000e+00,\n",
       "        -1.17239551e-16],\n",
       "       [ 3.31000000e+02,  1.16000000e+02,  5.00000000e+00,\n",
       "         5.00000000e+00,  5.00000000e+00,  9.38000000e+00,\n",
       "         1.00000000e+00],\n",
       "       [ 3.14000000e+02,  1.06000000e+02,  2.00000000e+00,\n",
       "         4.00000000e+00,  3.50000000e+00,  8.25000000e+00,\n",
       "        -1.17239551e-16],\n",
       "       [ 3.21000000e+02,  1.11000000e+02,  5.00000000e+00,\n",
       "         5.00000000e+00,  5.00000000e+00,  9.45000000e+00,\n",
       "         1.00000000e+00],\n",
       "       [ 3.21000000e+02,  1.10000000e+02,  4.00000000e+00,\n",
       "         3.50000000e+00,  4.00000000e+00,  8.35000000e+00,\n",
       "         1.00000000e+00],\n",
       "       [ 2.95000000e+02,  1.01000000e+02,  2.00000000e+00,\n",
       "         2.50000000e+00,  2.00000000e+00,  7.86000000e+00,\n",
       "        -1.17239551e-16],\n",
       "       [ 3.21000000e+02,  1.11000000e+02,  4.00000000e+00,\n",
       "         4.00000000e+00,  4.00000000e+00,  8.97000000e+00,\n",
       "         1.00000000e+00],\n",
       "       [ 3.00000000e+02,  1.02000000e+02,  2.00000000e+00,\n",
       "         1.50000000e+00,  2.00000000e+00,  7.87000000e+00,\n",
       "        -1.17239551e-16],\n",
       "       [ 3.23000000e+02,  1.07000000e+02,  4.00000000e+00,\n",
       "         3.00000000e+00,  2.50000000e+00,  8.48000000e+00,\n",
       "         1.00000000e+00],\n",
       "       [ 3.08000000e+02,  1.07000000e+02,  4.00000000e+00,\n",
       "         4.50000000e+00,  5.00000000e+00,  8.34000000e+00,\n",
       "        -1.17239551e-16],\n",
       "       [ 2.96000000e+02,  1.01000000e+02,  1.00000000e+00,\n",
       "         2.50000000e+00,  3.00000000e+00,  7.68000000e+00,\n",
       "        -1.17239551e-16],\n",
       "       [ 3.24000000e+02,  1.13000000e+02,  4.00000000e+00,\n",
       "         4.50000000e+00,  4.00000000e+00,  8.79000000e+00,\n",
       "        -1.17239551e-16],\n",
       "       [ 3.31000000e+02,  1.16000000e+02,  4.00000000e+00,\n",
       "         4.50000000e+00,  4.50000000e+00,  9.44000000e+00,\n",
       "         1.00000000e+00],\n",
       "       [ 3.00000000e+02,  1.01000000e+02,  3.00000000e+00,\n",
       "         3.50000000e+00,  2.50000000e+00,  7.88000000e+00,\n",
       "        -1.17239551e-16],\n",
       "       [ 3.09000000e+02,  1.00000000e+02,  2.00000000e+00,\n",
       "         3.00000000e+00,  3.00000000e+00,  8.10000000e+00,\n",
       "        -1.17239551e-16],\n",
       "       [ 3.14000000e+02,  1.10000000e+02,  3.00000000e+00,\n",
       "         4.00000000e+00,  4.00000000e+00,  8.80000000e+00,\n",
       "        -1.17239551e-16],\n",
       "       [ 3.21000000e+02,  1.09000000e+02,  3.00000000e+00,\n",
       "         3.00000000e+00,  4.00000000e+00,  8.20000000e+00,\n",
       "         1.00000000e+00],\n",
       "       [ 3.10000000e+02,  1.04000000e+02,  3.00000000e+00,\n",
       "         2.00000000e+00,  3.50000000e+00,  8.37000000e+00,\n",
       "        -1.17239551e-16],\n",
       "       [ 3.13000000e+02,  1.06000000e+02,  2.00000000e+00,\n",
       "         2.50000000e+00,  2.00000000e+00,  8.43000000e+00,\n",
       "        -1.17239551e-16],\n",
       "       [ 3.20000000e+02,  1.20000000e+02,  3.00000000e+00,\n",
       "         4.00000000e+00,  4.50000000e+00,  9.11000000e+00,\n",
       "        -1.17239551e-16],\n",
       "       [ 3.21000000e+02,  1.09000000e+02,  4.00000000e+00,\n",
       "         4.00000000e+00,  4.00000000e+00,  9.13000000e+00,\n",
       "         1.00000000e+00],\n",
       "       [ 3.20000000e+02,  1.08000000e+02,  3.00000000e+00,\n",
       "         3.50000000e+00,  4.00000000e+00,  8.44000000e+00,\n",
       "         1.00000000e+00],\n",
       "       [ 3.12000000e+02,  1.05000000e+02,  2.00000000e+00,\n",
       "         1.50000000e+00,  3.00000000e+00,  8.46000000e+00,\n",
       "        -1.17239551e-16],\n",
       "       [ 3.12000000e+02,  1.04000000e+02,  3.00000000e+00,\n",
       "         3.50000000e+00,  4.00000000e+00,  8.09000000e+00,\n",
       "        -1.17239551e-16],\n",
       "       [ 3.14000000e+02,  1.08000000e+02,  3.00000000e+00,\n",
       "         4.50000000e+00,  3.50000000e+00,  8.14000000e+00,\n",
       "        -1.17239551e-16],\n",
       "       [ 3.15000000e+02,  1.01000000e+02,  3.00000000e+00,\n",
       "         3.50000000e+00,  4.50000000e+00,  9.13000000e+00,\n",
       "        -1.17239551e-16],\n",
       "       [ 3.27000000e+02,  1.13000000e+02,  4.00000000e+00,\n",
       "         3.50000000e+00,  3.00000000e+00,  8.69000000e+00,\n",
       "         1.00000000e+00],\n",
       "       [ 3.24000000e+02,  1.07000000e+02,  4.00000000e+00,\n",
       "         4.00000000e+00,  4.50000000e+00,  8.87000000e+00,\n",
       "         1.00000000e+00],\n",
       "       [ 3.22000000e+02,  1.14000000e+02,  5.00000000e+00,\n",
       "         4.50000000e+00,  4.00000000e+00,  8.94000000e+00,\n",
       "         1.00000000e+00],\n",
       "       [ 3.07000000e+02,  1.01000000e+02,  3.00000000e+00,\n",
       "         4.00000000e+00,  3.00000000e+00,  8.20000000e+00,\n",
       "        -1.17239551e-16],\n",
       "       [ 3.25000000e+02,  1.06000000e+02,  3.00000000e+00,\n",
       "         3.50000000e+00,  4.00000000e+00,  8.40000000e+00,\n",
       "         1.00000000e+00],\n",
       "       [ 3.40000000e+02,  1.20000000e+02,  4.00000000e+00,\n",
       "         5.00000000e+00,  5.00000000e+00,  9.50000000e+00,\n",
       "         1.00000000e+00],\n",
       "       [ 3.22000000e+02,  1.07000000e+02,  4.00000000e+00,\n",
       "         4.00000000e+00,  5.00000000e+00,  9.13000000e+00,\n",
       "         1.00000000e+00],\n",
       "       [ 3.13000000e+02,  1.02000000e+02,  3.00000000e+00,\n",
       "         2.00000000e+00,  3.00000000e+00,  8.27000000e+00,\n",
       "        -1.17239551e-16],\n",
       "       [ 2.98000000e+02,  9.90000000e+01,  1.00000000e+00,\n",
       "         1.50000000e+00,  3.00000000e+00,  7.46000000e+00,\n",
       "        -1.17239551e-16],\n",
       "       [ 3.22000000e+02,  1.12000000e+02,  3.00000000e+00,\n",
       "         3.00000000e+00,  4.00000000e+00,  8.62000000e+00,\n",
       "         1.00000000e+00],\n",
       "       [ 3.22000000e+02,  1.04000000e+02,  3.00000000e+00,\n",
       "         3.50000000e+00,  4.00000000e+00,  8.84000000e+00,\n",
       "         1.00000000e+00],\n",
       "       [ 3.13000000e+02,  9.80000000e+01,  3.00000000e+00,\n",
       "         2.50000000e+00,  4.50000000e+00,  8.30000000e+00,\n",
       "         1.00000000e+00],\n",
       "       [ 3.25000000e+02,  1.10000000e+02,  2.00000000e+00,\n",
       "         3.00000000e+00,  2.50000000e+00,  8.76000000e+00,\n",
       "         1.00000000e+00],\n",
       "       [ 3.31000000e+02,  1.12000000e+02,  5.00000000e+00,\n",
       "         4.00000000e+00,  5.00000000e+00,  9.80000000e+00,\n",
       "         1.00000000e+00],\n",
       "       [ 2.96000000e+02,  9.50000000e+01,  2.00000000e+00,\n",
       "         3.00000000e+00,  2.00000000e+00,  7.54000000e+00,\n",
       "         1.00000000e+00],\n",
       "       [ 3.08000000e+02,  1.09000000e+02,  2.00000000e+00,\n",
       "         3.00000000e+00,  4.00000000e+00,  8.45000000e+00,\n",
       "        -1.17239551e-16],\n",
       "       [ 3.21000000e+02,  1.09000000e+02,  3.00000000e+00,\n",
       "         3.50000000e+00,  3.50000000e+00,  8.80000000e+00,\n",
       "         1.00000000e+00],\n",
       "       [ 3.38000000e+02,  1.17000000e+02,  4.00000000e+00,\n",
       "         3.50000000e+00,  4.50000000e+00,  9.46000000e+00,\n",
       "         1.00000000e+00],\n",
       "       [ 3.18000000e+02,  1.07000000e+02,  3.00000000e+00,\n",
       "         3.00000000e+00,  3.50000000e+00,  8.27000000e+00,\n",
       "         1.00000000e+00],\n",
       "       [ 3.12000000e+02,  1.07000000e+02,  4.00000000e+00,\n",
       "         4.50000000e+00,  4.00000000e+00,  8.65000000e+00,\n",
       "         1.00000000e+00],\n",
       "       [ 3.31000000e+02,  1.15000000e+02,  5.00000000e+00,\n",
       "         4.00000000e+00,  3.50000000e+00,  9.44000000e+00,\n",
       "         1.00000000e+00],\n",
       "       [ 2.97000000e+02,  9.60000000e+01,  2.00000000e+00,\n",
       "         2.50000000e+00,  1.50000000e+00,  7.89000000e+00,\n",
       "        -1.17239551e-16],\n",
       "       [ 3.21000000e+02,  1.11000000e+02,  3.00000000e+00,\n",
       "         3.50000000e+00,  4.00000000e+00,  8.83000000e+00,\n",
       "         1.00000000e+00],\n",
       "       [ 2.90000000e+02,  1.00000000e+02,  1.00000000e+00,\n",
       "         1.50000000e+00,  2.00000000e+00,  7.56000000e+00,\n",
       "        -1.17239551e-16],\n",
       "       [ 3.26000000e+02,  1.10000000e+02,  3.00000000e+00,\n",
       "         3.50000000e+00,  3.50000000e+00,  8.76000000e+00,\n",
       "         1.00000000e+00],\n",
       "       [ 3.18000000e+02,  1.09000000e+02,  3.00000000e+00,\n",
       "         3.50000000e+00,  4.00000000e+00,  9.22000000e+00,\n",
       "         1.00000000e+00],\n",
       "       [ 2.98000000e+02,  9.70000000e+01,  3.00000000e+00,\n",
       "         2.00000000e+00,  3.00000000e+00,  7.21000000e+00,\n",
       "        -1.17239551e-16],\n",
       "       [ 3.19000000e+02,  1.08000000e+02,  3.00000000e+00,\n",
       "         3.00000000e+00,  3.50000000e+00,  8.54000000e+00,\n",
       "         1.00000000e+00],\n",
       "       [ 3.06000000e+02,  1.10000000e+02,  2.00000000e+00,\n",
       "         3.50000000e+00,  4.00000000e+00,  8.45000000e+00,\n",
       "        -1.17239551e-16],\n",
       "       [ 3.11000000e+02,  1.03000000e+02,  3.00000000e+00,\n",
       "         2.00000000e+00,  4.00000000e+00,  8.09000000e+00,\n",
       "        -1.17239551e-16],\n",
       "       [ 3.27000000e+02,  1.15000000e+02,  4.00000000e+00,\n",
       "         3.50000000e+00,  4.00000000e+00,  9.14000000e+00,\n",
       "        -1.17239551e-16],\n",
       "       [ 3.08000000e+02,  1.06000000e+02,  3.00000000e+00,\n",
       "         3.50000000e+00,  2.50000000e+00,  8.21000000e+00,\n",
       "         1.00000000e+00],\n",
       "       [ 3.22000000e+02,  1.09000000e+02,  5.00000000e+00,\n",
       "         4.50000000e+00,  3.50000000e+00,  8.80000000e+00,\n",
       "        -1.17239551e-16],\n",
       "       [ 2.98000000e+02,  1.01000000e+02,  2.00000000e+00,\n",
       "         1.50000000e+00,  2.00000000e+00,  7.86000000e+00,\n",
       "        -1.17239551e-16],\n",
       "       [ 3.24000000e+02,  1.15000000e+02,  3.00000000e+00,\n",
       "         3.50000000e+00,  3.00000000e+00,  8.76000000e+00,\n",
       "         1.00000000e+00],\n",
       "       [ 3.23000000e+02,  1.07000000e+02,  3.00000000e+00,\n",
       "         3.50000000e+00,  3.50000000e+00,  8.55000000e+00,\n",
       "         1.00000000e+00],\n",
       "       [ 3.17000000e+02,  1.00000000e+02,  2.00000000e+00,\n",
       "         3.00000000e+00,  2.50000000e+00,  8.57000000e+00,\n",
       "        -1.17239551e-16],\n",
       "       [ 3.31000000e+02,  1.17000000e+02,  4.00000000e+00,\n",
       "         4.50000000e+00,  5.00000000e+00,  9.42000000e+00,\n",
       "         1.00000000e+00],\n",
       "       [ 3.23000000e+02,  1.07000000e+02,  3.00000000e+00,\n",
       "         4.00000000e+00,  4.00000000e+00,  8.88000000e+00,\n",
       "         1.00000000e+00],\n",
       "       [ 3.28000000e+02,  1.10000000e+02,  4.00000000e+00,\n",
       "         4.00000000e+00,  2.50000000e+00,  9.02000000e+00,\n",
       "         1.00000000e+00],\n",
       "       [ 3.23000000e+02,  1.10000000e+02,  4.00000000e+00,\n",
       "         4.00000000e+00,  5.00000000e+00,  8.88000000e+00,\n",
       "         1.00000000e+00]])"
      ]
     },
     "execution_count": 184,
     "metadata": {},
     "output_type": "execute_result"
    }
   ],
   "source": [
    "X_test=scaler.transform(X_test)\n",
    "X_test"
   ]
  },
  {
   "cell_type": "markdown",
   "id": "51a42b71",
   "metadata": {},
   "source": [
    "## SVR Model"
   ]
  },
  {
   "cell_type": "code",
   "execution_count": 185,
   "id": "67d2e1b4",
   "metadata": {},
   "outputs": [
    {
     "data": {
      "text/html": [
       "<style>#sk-container-id-5 {color: black;background-color: white;}#sk-container-id-5 pre{padding: 0;}#sk-container-id-5 div.sk-toggleable {background-color: white;}#sk-container-id-5 label.sk-toggleable__label {cursor: pointer;display: block;width: 100%;margin-bottom: 0;padding: 0.3em;box-sizing: border-box;text-align: center;}#sk-container-id-5 label.sk-toggleable__label-arrow:before {content: \"▸\";float: left;margin-right: 0.25em;color: #696969;}#sk-container-id-5 label.sk-toggleable__label-arrow:hover:before {color: black;}#sk-container-id-5 div.sk-estimator:hover label.sk-toggleable__label-arrow:before {color: black;}#sk-container-id-5 div.sk-toggleable__content {max-height: 0;max-width: 0;overflow: hidden;text-align: left;background-color: #f0f8ff;}#sk-container-id-5 div.sk-toggleable__content pre {margin: 0.2em;color: black;border-radius: 0.25em;background-color: #f0f8ff;}#sk-container-id-5 input.sk-toggleable__control:checked~div.sk-toggleable__content {max-height: 200px;max-width: 100%;overflow: auto;}#sk-container-id-5 input.sk-toggleable__control:checked~label.sk-toggleable__label-arrow:before {content: \"▾\";}#sk-container-id-5 div.sk-estimator input.sk-toggleable__control:checked~label.sk-toggleable__label {background-color: #d4ebff;}#sk-container-id-5 div.sk-label input.sk-toggleable__control:checked~label.sk-toggleable__label {background-color: #d4ebff;}#sk-container-id-5 input.sk-hidden--visually {border: 0;clip: rect(1px 1px 1px 1px);clip: rect(1px, 1px, 1px, 1px);height: 1px;margin: -1px;overflow: hidden;padding: 0;position: absolute;width: 1px;}#sk-container-id-5 div.sk-estimator {font-family: monospace;background-color: #f0f8ff;border: 1px dotted black;border-radius: 0.25em;box-sizing: border-box;margin-bottom: 0.5em;}#sk-container-id-5 div.sk-estimator:hover {background-color: #d4ebff;}#sk-container-id-5 div.sk-parallel-item::after {content: \"\";width: 100%;border-bottom: 1px solid gray;flex-grow: 1;}#sk-container-id-5 div.sk-label:hover label.sk-toggleable__label {background-color: #d4ebff;}#sk-container-id-5 div.sk-serial::before {content: \"\";position: absolute;border-left: 1px solid gray;box-sizing: border-box;top: 0;bottom: 0;left: 50%;z-index: 0;}#sk-container-id-5 div.sk-serial {display: flex;flex-direction: column;align-items: center;background-color: white;padding-right: 0.2em;padding-left: 0.2em;position: relative;}#sk-container-id-5 div.sk-item {position: relative;z-index: 1;}#sk-container-id-5 div.sk-parallel {display: flex;align-items: stretch;justify-content: center;background-color: white;position: relative;}#sk-container-id-5 div.sk-item::before, #sk-container-id-5 div.sk-parallel-item::before {content: \"\";position: absolute;border-left: 1px solid gray;box-sizing: border-box;top: 0;bottom: 0;left: 50%;z-index: -1;}#sk-container-id-5 div.sk-parallel-item {display: flex;flex-direction: column;z-index: 1;position: relative;background-color: white;}#sk-container-id-5 div.sk-parallel-item:first-child::after {align-self: flex-end;width: 50%;}#sk-container-id-5 div.sk-parallel-item:last-child::after {align-self: flex-start;width: 50%;}#sk-container-id-5 div.sk-parallel-item:only-child::after {width: 0;}#sk-container-id-5 div.sk-dashed-wrapped {border: 1px dashed gray;margin: 0 0.4em 0.5em 0.4em;box-sizing: border-box;padding-bottom: 0.4em;background-color: white;}#sk-container-id-5 div.sk-label label {font-family: monospace;font-weight: bold;display: inline-block;line-height: 1.2em;}#sk-container-id-5 div.sk-label-container {text-align: center;}#sk-container-id-5 div.sk-container {/* jupyter's `normalize.less` sets `[hidden] { display: none; }` but bootstrap.min.css set `[hidden] { display: none !important; }` so we also need the `!important` here to be able to override the default hidden behavior on the sphinx rendered scikit-learn.org. See: https://github.com/scikit-learn/scikit-learn/issues/21755 */display: inline-block !important;position: relative;}#sk-container-id-5 div.sk-text-repr-fallback {display: none;}</style><div id=\"sk-container-id-5\" class=\"sk-top-container\"><div class=\"sk-text-repr-fallback\"><pre>SVR()</pre><b>In a Jupyter environment, please rerun this cell to show the HTML representation or trust the notebook. <br />On GitHub, the HTML representation is unable to render, please try loading this page with nbviewer.org.</b></div><div class=\"sk-container\" hidden><div class=\"sk-item\"><div class=\"sk-estimator sk-toggleable\"><input class=\"sk-toggleable__control sk-hidden--visually\" id=\"sk-estimator-id-5\" type=\"checkbox\" checked><label for=\"sk-estimator-id-5\" class=\"sk-toggleable__label sk-toggleable__label-arrow\">SVR</label><div class=\"sk-toggleable__content\"><pre>SVR()</pre></div></div></div></div></div>"
      ],
      "text/plain": [
       "SVR()"
      ]
     },
     "execution_count": 185,
     "metadata": {},
     "output_type": "execute_result"
    }
   ],
   "source": [
    "from sklearn.svm import SVR\n",
    "regression = SVR(kernel='rbf')\n",
    "regression.fit(X_train,y_train)"
   ]
  },
  {
   "cell_type": "code",
   "execution_count": 186,
   "id": "817c62e1",
   "metadata": {},
   "outputs": [
    {
     "data": {
      "text/plain": [
       "array([0.66227707, 0.66227707, 0.66227707, 0.66227707, 0.66227707,\n",
       "       0.66227707, 0.66227707, 0.66227707, 0.66227707, 0.66227707,\n",
       "       0.66227707, 0.66227707, 0.66227707, 0.66227707, 0.66227707,\n",
       "       0.66227707, 0.66227707, 0.66227707, 0.66227707, 0.66227707,\n",
       "       0.66227707, 0.66227707, 0.66227707, 0.66227707, 0.66227707,\n",
       "       0.66227707, 0.66227707, 0.66227707, 0.66227707, 0.66227707,\n",
       "       0.66227707, 0.66227707, 0.66227707, 0.66227707, 0.66227707,\n",
       "       0.66227707, 0.66227707, 0.66227707, 0.66227707, 0.66227707,\n",
       "       0.66227707, 0.66227707, 0.66227707, 0.66227707, 0.66227707,\n",
       "       0.66227707, 0.66227707, 0.66227707, 0.66227707, 0.66227707,\n",
       "       0.66227707, 0.66227707, 0.66227707, 0.66227707, 0.66227707,\n",
       "       0.66227707, 0.66227707, 0.66227707, 0.66227707, 0.66227707,\n",
       "       0.66227707, 0.66227707, 0.66227707, 0.66227707, 0.66227707,\n",
       "       0.66227707, 0.66227707, 0.66227707, 0.66227707, 0.66227707,\n",
       "       0.66227707, 0.66227707, 0.66227707, 0.66227707, 0.66227707,\n",
       "       0.66227707, 0.66227707, 0.66227707, 0.66227707, 0.66227707,\n",
       "       0.66227707, 0.66227707, 0.66227707, 0.66227707, 0.66227707,\n",
       "       0.66227707, 0.66227707, 0.66227707, 0.66227707, 0.66227707,\n",
       "       0.66227707, 0.66227707, 0.66227707, 0.66227707, 0.66227707,\n",
       "       0.66227707, 0.66227707, 0.66227707, 0.66227707, 0.66227707,\n",
       "       0.66227707, 0.66227707, 0.66227707, 0.66227707, 0.66227707,\n",
       "       0.66227707, 0.66227707, 0.66227707, 0.66227707, 0.66227707,\n",
       "       0.66227707, 0.66227707, 0.66227707, 0.66227707, 0.66227707,\n",
       "       0.66227707, 0.66227707, 0.66227707, 0.66227707, 0.66227707,\n",
       "       0.66227707, 0.66227707, 0.66227707, 0.66227707, 0.66227707])"
      ]
     },
     "execution_count": 186,
     "metadata": {},
     "output_type": "execute_result"
    }
   ],
   "source": [
    "y_pred = regression.predict(X_test)\n",
    "y_pred"
   ]
  },
  {
   "cell_type": "markdown",
   "id": "df7e3653",
   "metadata": {},
   "source": [
    "## Peformance Matrics"
   ]
  },
  {
   "cell_type": "code",
   "execution_count": 187,
   "id": "192c595d",
   "metadata": {},
   "outputs": [],
   "source": [
    "# Performance matrics\n",
    "from sklearn.metrics import mean_squared_error\n",
    "from sklearn.metrics import mean_absolute_error"
   ]
  },
  {
   "cell_type": "code",
   "execution_count": 188,
   "id": "7107925d",
   "metadata": {},
   "outputs": [
    {
     "name": "stdout",
     "output_type": "stream",
     "text": [
      "0.02210420198288215\n",
      "0.12255452344162897\n"
     ]
    }
   ],
   "source": [
    "print(mean_squared_error(y_test,y_pred))\n",
    "print(mean_absolute_error(y_test,y_pred))"
   ]
  },
  {
   "cell_type": "markdown",
   "id": "f11861d5",
   "metadata": {},
   "source": [
    "## R-Square & Adjusted R-Square"
   ]
  },
  {
   "cell_type": "code",
   "execution_count": 189,
   "id": "e843abfc",
   "metadata": {},
   "outputs": [
    {
     "name": "stdout",
     "output_type": "stream",
     "text": [
      "-0.2753588917875338\n"
     ]
    }
   ],
   "source": [
    "from sklearn.metrics import r2_score\n",
    "score = r2_score(y_test , y_pred)\n",
    "print(score)"
   ]
  },
  {
   "cell_type": "code",
   "execution_count": 190,
   "id": "c249e330",
   "metadata": {},
   "outputs": [
    {
     "data": {
      "text/plain": [
       "-0.3516624152278136"
      ]
     },
     "execution_count": 190,
     "metadata": {},
     "output_type": "execute_result"
    }
   ],
   "source": [
    "## Adjuste r2 \n",
    "1-(1-score)*(len(y_test)-1)/(len(y_test)-X_test.shape[1]-1)"
   ]
  },
  {
   "cell_type": "code",
   "execution_count": null,
   "id": "a6054564",
   "metadata": {},
   "outputs": [],
   "source": []
  }
 ],
 "metadata": {
  "kernelspec": {
   "display_name": "Python 3 (ipykernel)",
   "language": "python",
   "name": "python3"
  },
  "language_info": {
   "codemirror_mode": {
    "name": "ipython",
    "version": 3
   },
   "file_extension": ".py",
   "mimetype": "text/x-python",
   "name": "python",
   "nbconvert_exporter": "python",
   "pygments_lexer": "ipython3",
   "version": "3.9.12"
  }
 },
 "nbformat": 4,
 "nbformat_minor": 5
}
